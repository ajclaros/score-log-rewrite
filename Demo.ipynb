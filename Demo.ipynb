{
 "cells": [
  {
   "cell_type": "code",
   "execution_count": null,
   "id": "760873c7-26db-460a-bd29-e28446b1ec80",
   "metadata": {},
   "outputs": [],
   "source": [
    "from analysis import BehaviorExtractor\n",
    "from importlib import reload\n",
    "import sys\n",
    "import pdb\n",
    "import os\n",
    "import numpy as np\n",
    "import seaborn as sns\n",
    "import random\n",
    "module = sys.modules['analysis']\n",
    "reload(module)\n",
    "palette = sns.color_palette(\"dark\", 19).as_hex()\n",
    "np.random.seed(30)\n",
    "random.shuffle(palette)\n",
    "ext = BehaviorExtractor()\n",
    "ext.extract_folder('data')\n",
    "ext.list_all_files()"
   ]
  },
  {
   "cell_type": "code",
   "execution_count": null,
   "id": "bd63156a-e78b-449a-8736-872ce6815e25",
   "metadata": {},
   "outputs": [],
   "source": [
    "group, file = ext.get_file_at_index(0)\n",
    "# Analyze individual files\n",
    "print(group)\n",
    "print(file)\n",
    "#print(\"The duration of time in each unique behavior\")\n",
    "#display(ext.analyze_time_in_states(group, file))\n",
    "\n",
    "#print(\"The probabilities of being in each behavior\")\n",
    "#display(ext.analyze_behavior_probabilities(group, file))\n",
    "\n",
    "# Behavior transitions\n",
    "# 'trans' or 'trans_prob' if you want transitions or probabilities of transitions\n",
    "#display(ext.analyze_transitions(group, file)['trans_prob'][0][2])\n",
    "\n",
    "# Analyze by group\n",
    "#print(ext.analyze_time_in_states(group))\n",
    "# print(extractor.analyze_behavior_probabilities(group))\n",
    "# print(extractor.analyze_transitions(group))\n",
    "\n",
    "# Analyze all data\n",
    "# print(ext.analyze_time_in_states())\n",
    "# print(extractor.analyze_behavior_probabilities())\n",
    "# print(extractor.analyze_transitions())\n",
    "\n",
    "# Export everything\n",
    "#extractor.export_analyses('output')"
   ]
  },
  {
   "cell_type": "code",
   "execution_count": null,
   "id": "03b850b9-178e-4b5c-8cb8-b6a2e6fff276",
   "metadata": {},
   "outputs": [],
   "source": [
    "group = 'blue'\n",
    "blue_stats = ext.get_behavior_summary_stats(group=group)\n",
    "print(f\"Printing {group}\")\n",
    "print(f\"accessable data: {blue_stats.keys()}\")\n",
    "print(f\"Average time in 'Bite ♂': {blue_stats['mean']['Bite ♂']:.2f} seconds\")\n",
    "print(f\"Standard deviation: {blue_stats['std']['Bite ♂']:.2f} seconds\")"
   ]
  },
  {
   "cell_type": "code",
   "execution_count": null,
   "id": "a39a7ef3-74aa-4580-ad00-ecc22e0bcc07",
   "metadata": {},
   "outputs": [],
   "source": [
    "print('Behavior summary stats')\n",
    "all_stats = ext.get_behavior_summary_stats()\n",
    "print('Printing mean over all files')\n",
    "print(all_stats['mean'])\n"
   ]
  },
  {
   "cell_type": "code",
   "execution_count": null,
   "id": "bda0264d-1a40-44e5-a47e-72f26b9897b0",
   "metadata": {},
   "outputs": [],
   "source": [
    "# Get summary statistics for a specific group\n",
    "blue_stats = ext.get_behavior_summary_stats(group='blue')\n",
    "print(f\"Average time in 'Bite ♂': {blue_stats['mean']['Bite ♂']:.2f} seconds\")\n",
    "print(f\"Standard deviation: {blue_stats['std']['Bite ♂']:.2f} seconds\")\n",
    "\n",
    "# Get summary statistics across all groups\n",
    "all_stats = ext.get_behavior_summary_stats()\n",
    "\n",
    "# Compare statistics across groups\n",
    "group_comparisons = ext.compare_groups_stats()\n",
    "# Print formatted summary\n",
    "ext.print_behavior_summary('blue')  # For one group\n",
    "ext.print_behavior_summary()        # For all groups\n",
    "\n",
    "# Export all summary statistics\n",
    "#extractor.export_summary_stats('summary_stats_output')"
   ]
  },
  {
   "cell_type": "code",
   "execution_count": null,
   "id": "2b52a9b4-aac6-4350-ba4e-d80e544f7be4",
   "metadata": {},
   "outputs": [],
   "source": [
    "\n",
    "# Compare statistics across groups\n",
    "group_comparisons = ext.compare_groups_stats()\n",
    "print('Group analysis: ', group_comparisons.keys())\n",
    "print('yellow mean: ', group_comparisons['yellow']['mean'])"
   ]
  },
  {
   "cell_type": "code",
   "execution_count": null,
   "id": "c10bc23a-4761-4d03-856e-3813126f48c4",
   "metadata": {},
   "outputs": [],
   "source": [
    "\n",
    "# Print formatted summary\n",
    "ext.print_behavior_summary('blue')  # For one group\n",
    "ext.print_behavior_summary()        # For all groups"
   ]
  },
  {
   "cell_type": "code",
   "execution_count": null,
   "id": "a7913466-1c8f-4ef9-8f2e-95059d20ab9d",
   "metadata": {},
   "outputs": [],
   "source": [
    "\n",
    "# Get summary statistics for transitions in a specific group\n",
    "blue_trans_stats = ext.get_transition_summary_stats(group='blue')\n",
    "# print(blue_trans_stats['mean_prob'])\n",
    "# Print formatted summary\n",
    "#ext.print_transition_summary('blue')  # For one group\n",
    "#ext.print_transition_summary()        # For all groups\n",
    "\n",
    "# Export all summary statistics\n",
    "#ext.export_transition_summary_stats('transition_stats_output')"
   ]
  },
  {
   "cell_type": "code",
   "execution_count": null,
   "id": "525963f7-5267-4229-aefc-e6487c962f62",
   "metadata": {
    "scrolled": true
   },
   "outputs": [],
   "source": [
    "# Get classification statistics\n",
    "ext.print_classification_summary()"
   ]
  },
  {
   "cell_type": "code",
   "execution_count": null,
   "id": "ddd551aa-4c3b-47a2-acb5-1462c08b76df",
   "metadata": {},
   "outputs": [],
   "source": [
    "fig_graph = ext.plot_markov_graph(\n",
    "    palette, threshold=0.1,\n",
    "    edge_scale=20,\n",
    "    node_scale=(1,1),\n",
    "    show_weights=True)\n",
    "\n",
    "\n",
    "fig_graph.savefig('markov_model.png', dpi=300)"
   ]
  },
  {
   "cell_type": "code",
   "execution_count": null,
   "id": "0d108106-3199-49cd-aa2b-943b6147c696",
   "metadata": {},
   "outputs": [],
   "source": [
    "fig_legend = ext.create_legend(palette, edge_scale=3)\n",
    "fig_legend.savefig('markov_legend.png', dpi=300)"
   ]
  },
  {
   "cell_type": "code",
   "execution_count": null,
   "id": "e1a0591a-1838-4bf2-8824-f661f225cf84",
   "metadata": {},
   "outputs": [],
   "source": [
    "files = list(ext.cleaned_dfs['yellow'].keys())\n",
    "print(ext.cleaned_dfs['yellow'][files[0]])"
   ]
  },
  {
   "cell_type": "code",
   "execution_count": null,
   "id": "0784dd54-a862-4853-a7fb-fe9730e893bd",
   "metadata": {},
   "outputs": [],
   "source": []
  }
 ],
 "metadata": {
  "kernelspec": {
   "display_name": "Python 3 (ipykernel)",
   "language": "python",
   "name": "python3"
  },
  "language_info": {
   "codemirror_mode": {
    "name": "ipython",
    "version": 3
   },
   "file_extension": ".py",
   "mimetype": "text/x-python",
   "name": "python",
   "nbconvert_exporter": "python",
   "pygments_lexer": "ipython3",
   "version": "3.9.20"
  }
 },
 "nbformat": 4,
 "nbformat_minor": 5
}
